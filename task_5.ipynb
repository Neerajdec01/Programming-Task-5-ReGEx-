{
  "nbformat": 4,
  "nbformat_minor": 0,
  "metadata": {
    "colab": {
      "provenance": []
    },
    "kernelspec": {
      "name": "python3",
      "display_name": "Python 3"
    },
    "language_info": {
      "name": "python"
    }
  },
  "cells": [
    {
      "cell_type": "code",
      "execution_count": 2,
      "metadata": {
        "colab": {
          "base_uri": "https://localhost:8080/"
        },
        "id": "Ok4Nuo3kWVD0",
        "outputId": "10d0b558-6e18-4a40-ca69-8ec45792f470"
      },
      "outputs": [
        {
          "output_type": "stream",
          "name": "stdout",
          "text": [
            "100,000,000.000\n",
            "100\n",
            "000\n",
            "000\n",
            "000\n"
          ]
        }
      ],
      "source": [
        "# 1st problem\n",
        "\n",
        "regex_pattern = r\"[\\b\\W\\b]+\"\t# Do not delete 'r'\n",
        "import re\n",
        "print(\"\\n\".join(re.split(regex_pattern, input())))\n",
        "\n"
      ]
    },
    {
      "cell_type": "code",
      "source": [
        "# 2nd problem\n",
        "\n",
        "import re\n",
        "m = re.findall(r\"([A-Za-z0-9])\\1+\",input())\n",
        "if m:\n",
        "    print(m[0])\n",
        "else:\n",
        "    print(-1)"
      ],
      "metadata": {
        "colab": {
          "base_uri": "https://localhost:8080/"
        },
        "id": "a7EOiHqkbozF",
        "outputId": "4e0edc9d-9013-4479-8918-8a9d7e1bb391"
      },
      "execution_count": 3,
      "outputs": [
        {
          "output_type": "stream",
          "name": "stdout",
          "text": [
            "1234567891011121314151617181920212223\n",
            "1\n"
          ]
        }
      ]
    },
    {
      "cell_type": "code",
      "source": [
        "# 3rd problem\n",
        "\n",
        "import re\n",
        "v = \"aeiou\"\n",
        "c = \"qwrtypsdfghjklzxcvbnm\"\n",
        "m = re.findall(r\"(?<=[%s])([%s]{2,})[%s]\" % (c, v, c), input(), flags = re.I)\n",
        "print('\\n'.join(m or ['-1']))"
      ],
      "metadata": {
        "colab": {
          "base_uri": "https://localhost:8080/"
        },
        "id": "eNKxkS0HcOsJ",
        "outputId": "0dd38cf9-f5d9-48da-e44b-3635dbb6a3ae"
      },
      "execution_count": 5,
      "outputs": [
        {
          "output_type": "stream",
          "name": "stdout",
          "text": [
            "rabcdeefgyYhFjkIoomnpOeorteeeeet\n",
            "ee\n",
            "Ioo\n",
            "Oeo\n",
            "eeeee\n"
          ]
        }
      ]
    },
    {
      "cell_type": "code",
      "source": [
        "# 4th problem\n",
        "\n",
        "S = input()\n",
        "k = input()\n",
        "import re\n",
        "pattern = re.compile(k)\n",
        "r = pattern.search(S)\n",
        "if not r: print(\"(-1, -1)\")\n",
        "while r:\n",
        "    print(\"({0}, {1})\".format(r.start(), r.end() - 1))\n",
        "    r = pattern.search(S,r.start() + 1)\n"
      ],
      "metadata": {
        "colab": {
          "base_uri": "https://localhost:8080/"
        },
        "id": "QR8zkahwcPgZ",
        "outputId": "6888956d-9479-42e3-ac54-cad571021231"
      },
      "execution_count": 6,
      "outputs": [
        {
          "output_type": "stream",
          "name": "stdout",
          "text": [
            "aabcdeffgabcdef\n",
            "abcdef\n",
            "(1, 6)\n",
            "(9, 14)\n"
          ]
        }
      ]
    },
    {
      "cell_type": "code",
      "source": [
        "# 5th problem\n",
        "\n",
        "import re\n",
        "\n",
        "ii = int(input())\n",
        "\n",
        "for i in range(0,ii):\n",
        "   txt = input()\n",
        "   txt = re.sub(r\"\\ \\&\\&\\ \",\" and \",txt)\n",
        "   txt = re.sub(r\"\\ \\|\\|\\ \",\" or \",txt)\n",
        "   txt = re.sub(r\"\\ \\&\\&\\ \",\" and \",txt)\n",
        "   txt = re.sub(r\"\\ \\|\\|\\ \",\" or \",txt)\n",
        "   print(txt)"
      ],
      "metadata": {
        "colab": {
          "base_uri": "https://localhost:8080/"
        },
        "id": "3QZhJK3_cP18",
        "outputId": "d17db0ce-2d8c-457f-b278-cae3f508d2ec"
      },
      "execution_count": 7,
      "outputs": [
        {
          "output_type": "stream",
          "name": "stdout",
          "text": [
            "11\n",
            "a = 1;\n",
            "a = 1;\n",
            "b = input();\n",
            "b = input();\n",
            "if a + b > 0 && a - b < 0:\n",
            "if a + b > 0 and a - b < 0:\n",
            "   start()\n",
            "   start()\n",
            "elif a*b > 10 || a/b < 1:\n",
            "elif a*b > 10 or a/b < 1:\n",
            " stop()\n",
            " stop()\n",
            "print set(list(a)) | set(list(b)0\n",
            "print set(list(a)) | set(list(b)0\n",
            "#Note do not change &&& or ||| or & or |\n",
            "#Note do not change &&& or ||| or & or |\n",
            "#Only change those '&&' which have space on both sides.\n",
            "#Only change those '&&' which have space on both sides.\n",
            "#Only change those '|| which have space on both sides\n",
            "#Only change those '|| which have space on both sides\n",
            "\n",
            "\n"
          ]
        }
      ]
    },
    {
      "cell_type": "code",
      "source": [
        "# 6th problem\n",
        "\n",
        "thousand = 'M{0,3}'\n",
        "hundred = '(C[MD]|D?C{0,3})'\n",
        "ten = '(X[CL]|L?X{0,3})'\n",
        "digit = '(I[VX]|V?I{0,3})'\n",
        "regex_pattern = r\"%s%s%s%s$\" % (thousand, hundred, ten, digit)\n",
        "\n",
        "import re\n",
        "print(str(bool(re.match(regex_pattern, input()))))"
      ],
      "metadata": {
        "colab": {
          "base_uri": "https://localhost:8080/"
        },
        "id": "g-bRdpcScQFg",
        "outputId": "46719a5e-19df-498c-fcc5-ce594234fcee"
      },
      "execution_count": 9,
      "outputs": [
        {
          "output_type": "stream",
          "name": "stdout",
          "text": [
            "CDXXI\n",
            "True\n"
          ]
        }
      ]
    },
    {
      "cell_type": "code",
      "source": [
        "# 7th problem\n",
        "\n",
        "import re\n",
        "for _ in range(int(input())):\n",
        "    if re.match(r'[789]\\d{9}$',input()):   \n",
        "        print('YES')  \n",
        "    else:  \n",
        "        print('NO')"
      ],
      "metadata": {
        "colab": {
          "base_uri": "https://localhost:8080/"
        },
        "id": "xEsCXJqKgtuN",
        "outputId": "548c6418-4cb1-490d-fb07-63ac1517704e"
      },
      "execution_count": 10,
      "outputs": [
        {
          "output_type": "stream",
          "name": "stdout",
          "text": [
            "2\n",
            "7889616263\n",
            "YES\n",
            "123456789\n",
            "NO\n"
          ]
        }
      ]
    },
    {
      "cell_type": "code",
      "source": [
        "# 8th problem\n",
        "\n",
        "import re\n",
        "n = int(input())\n",
        "for _ in range(n):\n",
        "    x, y = input().split(' ')\n",
        "    m = re.match(r'<[A-Za-z](\\w|-|\\.|_)+@[A-Za-z]+\\.[A-Za-z]{1,3}>', y)\n",
        "    if m:\n",
        "        print(x,y)\n"
      ],
      "metadata": {
        "colab": {
          "base_uri": "https://localhost:8080/"
        },
        "id": "YjOSmg_XhlQP",
        "outputId": "f22c7078-134b-446f-b100-e311f9ff9c0f"
      },
      "execution_count": 12,
      "outputs": [
        {
          "name": "stdout",
          "output_type": "stream",
          "text": [
            "2\n",
            "DEXTER <dexter@hotmail.com>\n",
            "DEXTER <dexter@hotmail.com>\n",
            "VIRUS <virus!@variable.:p>\n"
          ]
        }
      ]
    },
    {
      "cell_type": "code",
      "source": [
        "# 9th problem\n",
        "import re\n",
        "N=int(input())\n",
        "\n",
        "for i in range(0,N):\n",
        "    s=input()\n",
        "\n",
        "    x=s.split()\n",
        "\n",
        "    if len(x)>1  and  '{' not in x:\n",
        "        x=re.findall(r'#[a-fA-F0-9]{3,6}',s)\n",
        "        [print(i) for  i in x]\n"
      ],
      "metadata": {
        "colab": {
          "base_uri": "https://localhost:8080/"
        },
        "id": "h-_Ib4Q0h-8l",
        "outputId": "75edbdf9-60f9-4c88-e11d-1fca1ca898d9"
      },
      "execution_count": 15,
      "outputs": [
        {
          "name": "stdout",
          "output_type": "stream",
          "text": [
            "11\n",
            "#BED\n",
            "{\n",
            "color: #FfFdF8;\n",
            "#FfFdF8\n",
            "background-color:#aef;\n",
            "font-size: 123px;\n",
            "\n",
            "}\n",
            "#Cab\n",
            "{\n",
            " background-color:\n",
            "#ABC;\n"
          ]
        }
      ]
    },
    {
      "cell_type": "code",
      "source": [
        "# 10th problem\n",
        "\n",
        "from html.parser import HTMLParser\n",
        "class MyHTMLParser(HTMLParser):\n",
        "    def handle_starttag(self, tag, attrs):        \n",
        "        print ('Start :',tag)\n",
        "        for ele in attrs:\n",
        "            print ('->',ele[0],'>',ele[1])\n",
        "            \n",
        "    def handle_endtag(self, tag):\n",
        "        print ('End   :',tag)\n",
        "        \n",
        "    def handle_startendtag(self, tag, attrs):\n",
        "        print ('Empty :',tag)\n",
        "        for ele in attrs:\n",
        "            print ('->',ele[0],'>',ele[1])\n",
        "            \n",
        "MyParser = MyHTMLParser()\n",
        "MyParser.feed(''.join([input().strip() for _ in range(int(input()))]))"
      ],
      "metadata": {
        "colab": {
          "base_uri": "https://localhost:8080/"
        },
        "id": "JxiDTLiajyW1",
        "outputId": "a561625e-c523-4242-be8a-f4b940899bf4"
      },
      "execution_count": 17,
      "outputs": [
        {
          "output_type": "stream",
          "name": "stdout",
          "text": [
            "2\n",
            "<html><head><title>HTML Parser - I</title></head>\n",
            "<body data-modal-target class='1'>\n",
            "Start : html\n",
            "Start : head\n",
            "Start : title\n",
            "End   : title\n",
            "End   : head\n",
            "Start : body\n",
            "-> data-modal-target > None\n",
            "-> class > 1\n"
          ]
        }
      ]
    },
    {
      "cell_type": "code",
      "source": [
        "# 11th problem\n",
        "from html.parser import HTMLParser\n",
        "\n",
        "class MyHTMLParser(HTMLParser):\n",
        "    def handle_comment(self, data):\n",
        "        data = str(data).split('\\n')\n",
        "        if len(data)>1:\n",
        "            print('>>> Multi-line Comment', *data, sep='\\n')\n",
        "        else:\n",
        "            print('>>> Single-line Comment', data[0], sep='\\n')            \n",
        "    def handle_data(self, data):\n",
        "        data = str(data).replace('\\n', '')\n",
        "        if len(data)>0:\n",
        "            print('>>> Data', data, sep='\\n')\n",
        "\n",
        "html = \"\"       \n",
        "for _ in range(int(input())):\n",
        "    html += input().rstrip()\n",
        "    html += '\\n'\n",
        "    \n",
        "parser = MyHTMLParser()\n",
        "parser.feed(html)\n",
        "parser.close()"
      ],
      "metadata": {
        "colab": {
          "base_uri": "https://localhost:8080/"
        },
        "id": "L1zf-LOal8D6",
        "outputId": "8322d596-8ada-4b39-d4f6-f27bd265afc5"
      },
      "execution_count": 19,
      "outputs": [
        {
          "output_type": "stream",
          "name": "stdout",
          "text": [
            "4\n",
            "<!--[if IE 9]>IE9-specific content\n",
            "<![endif]-->\n",
            "<div> Welcome to HackerRank</div>\n",
            "<!--[if IE 9]>IE9-specific content<![endif]-->\n",
            ">>> Multi-line Comment\n",
            "[if IE 9]>IE9-specific content\n",
            "<![endif]\n",
            ">>> Data\n",
            " Welcome to HackerRank\n",
            ">>> Single-line Comment\n",
            "[if IE 9]>IE9-specific content<![endif]\n"
          ]
        }
      ]
    },
    {
      "cell_type": "code",
      "source": [
        "# 12th problem\n",
        "\n",
        "from html.parser import HTMLParser\n",
        "class MyHTMLParser(HTMLParser):\n",
        "    def handle_starttag(self, tag, attrs):\n",
        "        print(tag)\n",
        "        [print('-> {} > {}'.format(*attr)) for attr in attrs]\n",
        "        \n",
        "html = '\\n'.join([input() for _ in range(int(input()))])\n",
        "parser = MyHTMLParser()\n",
        "parser.feed(html)\n",
        "parser.close()"
      ],
      "metadata": {
        "colab": {
          "base_uri": "https://localhost:8080/"
        },
        "id": "Dwy0DfrPnjly",
        "outputId": "ed6a4d3b-c563-4c0d-eb51-09c85e64b640"
      },
      "execution_count": 20,
      "outputs": [
        {
          "output_type": "stream",
          "name": "stdout",
          "text": [
            "9\n",
            "<head>\n",
            "<title>HTML</title>\n",
            "</head>\n",
            "<object type=\"application/x-flash\"\n",
            "data=\"your-file.swf\"\n",
            " width=\"0\" height=\"0\">\n",
            "  <!-- <param name=\"movie\" value=\"your-file.swf\" /> -->\n",
            "<param name=\"quality\" value=\"high\"/>\n",
            "</object>\n",
            "head\n",
            "title\n",
            "object\n",
            "-> type > application/x-flash\n",
            "-> data > your-file.swf\n",
            "-> width > 0\n",
            "-> height > 0\n",
            "param\n",
            "-> name > quality\n",
            "-> value > high\n"
          ]
        }
      ]
    },
    {
      "cell_type": "code",
      "source": [
        "# 13th problem\n",
        "\n",
        "import re\n",
        "\n",
        "for _ in range(int(input())):\n",
        "    u = ''.join(sorted(input()))\n",
        "    try:\n",
        "        assert re.search(r'[A-Z]{2}', u)\n",
        "        assert re.search(r'\\d\\d\\d', u)\n",
        "        assert not re.search(r'[^a-zA-Z0-9]', u)\n",
        "        assert not re.search(r'(.)\\1', u)\n",
        "        assert len(u) == 10\n",
        "    except:\n",
        "        print('Invalid')\n",
        "    else:\n",
        "        print('Valid')"
      ],
      "metadata": {
        "colab": {
          "base_uri": "https://localhost:8080/"
        },
        "id": "Pd-9-7txoSHz",
        "outputId": "de3d8efb-3c1c-46cb-df6b-be72a14dc5ea"
      },
      "execution_count": 21,
      "outputs": [
        {
          "output_type": "stream",
          "name": "stdout",
          "text": [
            "2\n",
            "B1CD102354\n",
            "Invalid\n",
            "B1CDEF2354\n",
            "Valid\n"
          ]
        }
      ]
    },
    {
      "cell_type": "code",
      "source": [
        "# 14th problem\n",
        "\n",
        "import re\n",
        "TESTER = re.compile(\n",
        "    r\"^\"\n",
        "    r\"(?!.*(\\d)(-?\\1){3})\"\n",
        "    r\"[456]\"\n",
        "    r\"\\d{3}\"\n",
        "    r\"(?:-?\\d{4}){3}\"\n",
        "    r\"$\")\n",
        "for _ in range(int(input().strip())):\n",
        "    print(\"Valid\" if TESTER.search(input().strip()) else \"Invalid\")\n"
      ],
      "metadata": {
        "colab": {
          "base_uri": "https://localhost:8080/"
        },
        "id": "HrwOr-CNo0Op",
        "outputId": "ff878703-502f-4ed3-a17c-69e596b1250e"
      },
      "execution_count": 22,
      "outputs": [
        {
          "output_type": "stream",
          "name": "stdout",
          "text": [
            "6\n",
            "4123456789123456\n",
            "Valid\n",
            "5123-4567-8912-3456\n",
            "Valid\n",
            "61234-567-8912-3456\n",
            "Invalid\n",
            "4123356789123456\n",
            "Valid\n",
            "5133-3367-8912-3456\n",
            "Invalid\n",
            "5123 - 3567 - 8912 - 3456\n",
            "Invalid\n"
          ]
        }
      ]
    },
    {
      "cell_type": "code",
      "source": [
        "# 15th problem\n",
        "\n",
        "regex_integer_in_range = r\"^([1-9][0-9]{5})$\"# Do not delete 'r'.\n",
        "regex_alternating_repetitive_digit_pair = r\"(?=(\\d)\\d\\1)\"# Do not delete 'r'.\n",
        "\n",
        "\n",
        "import re\n",
        "P = input()\n",
        "\n",
        "print (bool(re.match(regex_integer_in_range, P)) \n",
        "and len(re.findall(regex_alternating_repetitive_digit_pair, P)) < 2)"
      ],
      "metadata": {
        "colab": {
          "base_uri": "https://localhost:8080/"
        },
        "id": "TIMSeJGKpdpO",
        "outputId": "c279bb20-20f8-4534-97ce-69cb1fa7965d"
      },
      "execution_count": 23,
      "outputs": [
        {
          "output_type": "stream",
          "name": "stdout",
          "text": [
            "110000\n",
            "False\n"
          ]
        }
      ]
    },
    {
      "cell_type": "code",
      "source": [
        "# 16th problem\n",
        "\n",
        "n, m = list(map(int,input().split(' ')))\n",
        "matrix = [input() for _ in range(n)]\n",
        "string = ''.join([''.join(i) for i in zip(*matrix)])\n",
        "print(re.sub(r'(?<=\\w)[^\\w]+(?=\\w)',' ',string))\n",
        "\n"
      ],
      "metadata": {
        "colab": {
          "base_uri": "https://localhost:8080/"
        },
        "id": "n7FqUE66rh_e",
        "outputId": "47763925-03d8-4945-a84c-06954c9a63db"
      },
      "execution_count": 31,
      "outputs": [
        {
          "output_type": "stream",
          "name": "stdout",
          "text": [
            "7 3\n",
            "tsi\n",
            "h%x\n",
            "i #\n",
            "sM\n",
            "$a\n",
            "#t%\n",
            "ir!\n",
            "this is Matr\n"
          ]
        }
      ]
    }
  ]
}